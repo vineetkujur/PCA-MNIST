{
 "cells": [
  {
   "cell_type": "code",
   "execution_count": 1,
   "id": "4d75dd93",
   "metadata": {
    "_cell_guid": "b1076dfc-b9ad-4769-8c92-a6c4dae69d19",
    "_uuid": "8f2839f25d086af736a60e9eeb907d3b93b6e0e5",
    "execution": {
     "iopub.execute_input": "2022-11-03T05:45:01.510242Z",
     "iopub.status.busy": "2022-11-03T05:45:01.509094Z",
     "iopub.status.idle": "2022-11-03T05:45:01.526201Z",
     "shell.execute_reply": "2022-11-03T05:45:01.524824Z"
    },
    "papermill": {
     "duration": 0.027876,
     "end_time": "2022-11-03T05:45:01.528883",
     "exception": false,
     "start_time": "2022-11-03T05:45:01.501007",
     "status": "completed"
    },
    "tags": []
   },
   "outputs": [
    {
     "name": "stdout",
     "output_type": "stream",
     "text": [
      "/kaggle/input/digit-recognizer/sample_submission.csv\n",
      "/kaggle/input/digit-recognizer/train.csv\n",
      "/kaggle/input/digit-recognizer/test.csv\n"
     ]
    }
   ],
   "source": [
    "# This Python 3 environment comes with many helpful analytics libraries installed\n",
    "# It is defined by the kaggle/python Docker image: https://github.com/kaggle/docker-python\n",
    "# For example, here's several helpful packages to load\n",
    "\n",
    "import numpy as np # linear algebra\n",
    "import pandas as pd # data processing, CSV file I/O (e.g. pd.read_csv)\n",
    "\n",
    "# Input data files are available in the read-only \"../input/\" directory\n",
    "# For example, running this (by clicking run or pressing Shift+Enter) will list all files under the input directory\n",
    "\n",
    "import os\n",
    "for dirname, _, filenames in os.walk('/kaggle/input'):\n",
    "    for filename in filenames:\n",
    "        print(os.path.join(dirname, filename))\n",
    "\n",
    "# You can write up to 20GB to the current directory (/kaggle/working/) that gets preserved as output when you create a version using \"Save & Run All\" \n",
    "# You can also write temporary files to /kaggle/temp/, but they won't be saved outside of the current session"
   ]
  },
  {
   "cell_type": "code",
   "execution_count": 2,
   "id": "93f57d03",
   "metadata": {
    "execution": {
     "iopub.execute_input": "2022-11-03T05:45:01.541314Z",
     "iopub.status.busy": "2022-11-03T05:45:01.540641Z",
     "iopub.status.idle": "2022-11-03T05:45:04.014709Z",
     "shell.execute_reply": "2022-11-03T05:45:04.013599Z"
    },
    "papermill": {
     "duration": 2.482879,
     "end_time": "2022-11-03T05:45:04.017262",
     "exception": false,
     "start_time": "2022-11-03T05:45:01.534383",
     "status": "completed"
    },
    "tags": []
   },
   "outputs": [
    {
     "data": {
      "text/html": [
       "<div>\n",
       "<style scoped>\n",
       "    .dataframe tbody tr th:only-of-type {\n",
       "        vertical-align: middle;\n",
       "    }\n",
       "\n",
       "    .dataframe tbody tr th {\n",
       "        vertical-align: top;\n",
       "    }\n",
       "\n",
       "    .dataframe thead th {\n",
       "        text-align: right;\n",
       "    }\n",
       "</style>\n",
       "<table border=\"1\" class=\"dataframe\">\n",
       "  <thead>\n",
       "    <tr style=\"text-align: right;\">\n",
       "      <th></th>\n",
       "      <th>pixel0</th>\n",
       "      <th>pixel1</th>\n",
       "      <th>pixel2</th>\n",
       "      <th>pixel3</th>\n",
       "      <th>pixel4</th>\n",
       "      <th>pixel5</th>\n",
       "      <th>pixel6</th>\n",
       "      <th>pixel7</th>\n",
       "      <th>pixel8</th>\n",
       "      <th>pixel9</th>\n",
       "      <th>...</th>\n",
       "      <th>pixel774</th>\n",
       "      <th>pixel775</th>\n",
       "      <th>pixel776</th>\n",
       "      <th>pixel777</th>\n",
       "      <th>pixel778</th>\n",
       "      <th>pixel779</th>\n",
       "      <th>pixel780</th>\n",
       "      <th>pixel781</th>\n",
       "      <th>pixel782</th>\n",
       "      <th>pixel783</th>\n",
       "    </tr>\n",
       "  </thead>\n",
       "  <tbody>\n",
       "    <tr>\n",
       "      <th>0</th>\n",
       "      <td>0</td>\n",
       "      <td>0</td>\n",
       "      <td>0</td>\n",
       "      <td>0</td>\n",
       "      <td>0</td>\n",
       "      <td>0</td>\n",
       "      <td>0</td>\n",
       "      <td>0</td>\n",
       "      <td>0</td>\n",
       "      <td>0</td>\n",
       "      <td>...</td>\n",
       "      <td>0</td>\n",
       "      <td>0</td>\n",
       "      <td>0</td>\n",
       "      <td>0</td>\n",
       "      <td>0</td>\n",
       "      <td>0</td>\n",
       "      <td>0</td>\n",
       "      <td>0</td>\n",
       "      <td>0</td>\n",
       "      <td>0</td>\n",
       "    </tr>\n",
       "    <tr>\n",
       "      <th>1</th>\n",
       "      <td>0</td>\n",
       "      <td>0</td>\n",
       "      <td>0</td>\n",
       "      <td>0</td>\n",
       "      <td>0</td>\n",
       "      <td>0</td>\n",
       "      <td>0</td>\n",
       "      <td>0</td>\n",
       "      <td>0</td>\n",
       "      <td>0</td>\n",
       "      <td>...</td>\n",
       "      <td>0</td>\n",
       "      <td>0</td>\n",
       "      <td>0</td>\n",
       "      <td>0</td>\n",
       "      <td>0</td>\n",
       "      <td>0</td>\n",
       "      <td>0</td>\n",
       "      <td>0</td>\n",
       "      <td>0</td>\n",
       "      <td>0</td>\n",
       "    </tr>\n",
       "    <tr>\n",
       "      <th>2</th>\n",
       "      <td>0</td>\n",
       "      <td>0</td>\n",
       "      <td>0</td>\n",
       "      <td>0</td>\n",
       "      <td>0</td>\n",
       "      <td>0</td>\n",
       "      <td>0</td>\n",
       "      <td>0</td>\n",
       "      <td>0</td>\n",
       "      <td>0</td>\n",
       "      <td>...</td>\n",
       "      <td>0</td>\n",
       "      <td>0</td>\n",
       "      <td>0</td>\n",
       "      <td>0</td>\n",
       "      <td>0</td>\n",
       "      <td>0</td>\n",
       "      <td>0</td>\n",
       "      <td>0</td>\n",
       "      <td>0</td>\n",
       "      <td>0</td>\n",
       "    </tr>\n",
       "    <tr>\n",
       "      <th>3</th>\n",
       "      <td>0</td>\n",
       "      <td>0</td>\n",
       "      <td>0</td>\n",
       "      <td>0</td>\n",
       "      <td>0</td>\n",
       "      <td>0</td>\n",
       "      <td>0</td>\n",
       "      <td>0</td>\n",
       "      <td>0</td>\n",
       "      <td>0</td>\n",
       "      <td>...</td>\n",
       "      <td>0</td>\n",
       "      <td>0</td>\n",
       "      <td>0</td>\n",
       "      <td>0</td>\n",
       "      <td>0</td>\n",
       "      <td>0</td>\n",
       "      <td>0</td>\n",
       "      <td>0</td>\n",
       "      <td>0</td>\n",
       "      <td>0</td>\n",
       "    </tr>\n",
       "    <tr>\n",
       "      <th>4</th>\n",
       "      <td>0</td>\n",
       "      <td>0</td>\n",
       "      <td>0</td>\n",
       "      <td>0</td>\n",
       "      <td>0</td>\n",
       "      <td>0</td>\n",
       "      <td>0</td>\n",
       "      <td>0</td>\n",
       "      <td>0</td>\n",
       "      <td>0</td>\n",
       "      <td>...</td>\n",
       "      <td>0</td>\n",
       "      <td>0</td>\n",
       "      <td>0</td>\n",
       "      <td>0</td>\n",
       "      <td>0</td>\n",
       "      <td>0</td>\n",
       "      <td>0</td>\n",
       "      <td>0</td>\n",
       "      <td>0</td>\n",
       "      <td>0</td>\n",
       "    </tr>\n",
       "  </tbody>\n",
       "</table>\n",
       "<p>5 rows × 784 columns</p>\n",
       "</div>"
      ],
      "text/plain": [
       "   pixel0  pixel1  pixel2  pixel3  pixel4  pixel5  pixel6  pixel7  pixel8  \\\n",
       "0       0       0       0       0       0       0       0       0       0   \n",
       "1       0       0       0       0       0       0       0       0       0   \n",
       "2       0       0       0       0       0       0       0       0       0   \n",
       "3       0       0       0       0       0       0       0       0       0   \n",
       "4       0       0       0       0       0       0       0       0       0   \n",
       "\n",
       "   pixel9  ...  pixel774  pixel775  pixel776  pixel777  pixel778  pixel779  \\\n",
       "0       0  ...         0         0         0         0         0         0   \n",
       "1       0  ...         0         0         0         0         0         0   \n",
       "2       0  ...         0         0         0         0         0         0   \n",
       "3       0  ...         0         0         0         0         0         0   \n",
       "4       0  ...         0         0         0         0         0         0   \n",
       "\n",
       "   pixel780  pixel781  pixel782  pixel783  \n",
       "0         0         0         0         0  \n",
       "1         0         0         0         0  \n",
       "2         0         0         0         0  \n",
       "3         0         0         0         0  \n",
       "4         0         0         0         0  \n",
       "\n",
       "[5 rows x 784 columns]"
      ]
     },
     "execution_count": 2,
     "metadata": {},
     "output_type": "execute_result"
    }
   ],
   "source": [
    "train= pd.read_csv(\"/kaggle/input/digit-recognizer/test.csv\")\n",
    "train.head()"
   ]
  },
  {
   "cell_type": "code",
   "execution_count": 3,
   "id": "40c4c5fa",
   "metadata": {
    "execution": {
     "iopub.execute_input": "2022-11-03T05:45:04.029585Z",
     "iopub.status.busy": "2022-11-03T05:45:04.029122Z",
     "iopub.status.idle": "2022-11-03T05:45:07.550474Z",
     "shell.execute_reply": "2022-11-03T05:45:07.549357Z"
    },
    "papermill": {
     "duration": 3.530464,
     "end_time": "2022-11-03T05:45:07.552982",
     "exception": false,
     "start_time": "2022-11-03T05:45:04.022518",
     "status": "completed"
    },
    "tags": []
   },
   "outputs": [
    {
     "data": {
      "text/html": [
       "<div>\n",
       "<style scoped>\n",
       "    .dataframe tbody tr th:only-of-type {\n",
       "        vertical-align: middle;\n",
       "    }\n",
       "\n",
       "    .dataframe tbody tr th {\n",
       "        vertical-align: top;\n",
       "    }\n",
       "\n",
       "    .dataframe thead th {\n",
       "        text-align: right;\n",
       "    }\n",
       "</style>\n",
       "<table border=\"1\" class=\"dataframe\">\n",
       "  <thead>\n",
       "    <tr style=\"text-align: right;\">\n",
       "      <th></th>\n",
       "      <th>label</th>\n",
       "      <th>pixel0</th>\n",
       "      <th>pixel1</th>\n",
       "      <th>pixel2</th>\n",
       "      <th>pixel3</th>\n",
       "      <th>pixel4</th>\n",
       "      <th>pixel5</th>\n",
       "      <th>pixel6</th>\n",
       "      <th>pixel7</th>\n",
       "      <th>pixel8</th>\n",
       "      <th>...</th>\n",
       "      <th>pixel774</th>\n",
       "      <th>pixel775</th>\n",
       "      <th>pixel776</th>\n",
       "      <th>pixel777</th>\n",
       "      <th>pixel778</th>\n",
       "      <th>pixel779</th>\n",
       "      <th>pixel780</th>\n",
       "      <th>pixel781</th>\n",
       "      <th>pixel782</th>\n",
       "      <th>pixel783</th>\n",
       "    </tr>\n",
       "  </thead>\n",
       "  <tbody>\n",
       "    <tr>\n",
       "      <th>0</th>\n",
       "      <td>1</td>\n",
       "      <td>0</td>\n",
       "      <td>0</td>\n",
       "      <td>0</td>\n",
       "      <td>0</td>\n",
       "      <td>0</td>\n",
       "      <td>0</td>\n",
       "      <td>0</td>\n",
       "      <td>0</td>\n",
       "      <td>0</td>\n",
       "      <td>...</td>\n",
       "      <td>0</td>\n",
       "      <td>0</td>\n",
       "      <td>0</td>\n",
       "      <td>0</td>\n",
       "      <td>0</td>\n",
       "      <td>0</td>\n",
       "      <td>0</td>\n",
       "      <td>0</td>\n",
       "      <td>0</td>\n",
       "      <td>0</td>\n",
       "    </tr>\n",
       "    <tr>\n",
       "      <th>1</th>\n",
       "      <td>0</td>\n",
       "      <td>0</td>\n",
       "      <td>0</td>\n",
       "      <td>0</td>\n",
       "      <td>0</td>\n",
       "      <td>0</td>\n",
       "      <td>0</td>\n",
       "      <td>0</td>\n",
       "      <td>0</td>\n",
       "      <td>0</td>\n",
       "      <td>...</td>\n",
       "      <td>0</td>\n",
       "      <td>0</td>\n",
       "      <td>0</td>\n",
       "      <td>0</td>\n",
       "      <td>0</td>\n",
       "      <td>0</td>\n",
       "      <td>0</td>\n",
       "      <td>0</td>\n",
       "      <td>0</td>\n",
       "      <td>0</td>\n",
       "    </tr>\n",
       "    <tr>\n",
       "      <th>2</th>\n",
       "      <td>1</td>\n",
       "      <td>0</td>\n",
       "      <td>0</td>\n",
       "      <td>0</td>\n",
       "      <td>0</td>\n",
       "      <td>0</td>\n",
       "      <td>0</td>\n",
       "      <td>0</td>\n",
       "      <td>0</td>\n",
       "      <td>0</td>\n",
       "      <td>...</td>\n",
       "      <td>0</td>\n",
       "      <td>0</td>\n",
       "      <td>0</td>\n",
       "      <td>0</td>\n",
       "      <td>0</td>\n",
       "      <td>0</td>\n",
       "      <td>0</td>\n",
       "      <td>0</td>\n",
       "      <td>0</td>\n",
       "      <td>0</td>\n",
       "    </tr>\n",
       "    <tr>\n",
       "      <th>3</th>\n",
       "      <td>4</td>\n",
       "      <td>0</td>\n",
       "      <td>0</td>\n",
       "      <td>0</td>\n",
       "      <td>0</td>\n",
       "      <td>0</td>\n",
       "      <td>0</td>\n",
       "      <td>0</td>\n",
       "      <td>0</td>\n",
       "      <td>0</td>\n",
       "      <td>...</td>\n",
       "      <td>0</td>\n",
       "      <td>0</td>\n",
       "      <td>0</td>\n",
       "      <td>0</td>\n",
       "      <td>0</td>\n",
       "      <td>0</td>\n",
       "      <td>0</td>\n",
       "      <td>0</td>\n",
       "      <td>0</td>\n",
       "      <td>0</td>\n",
       "    </tr>\n",
       "    <tr>\n",
       "      <th>4</th>\n",
       "      <td>0</td>\n",
       "      <td>0</td>\n",
       "      <td>0</td>\n",
       "      <td>0</td>\n",
       "      <td>0</td>\n",
       "      <td>0</td>\n",
       "      <td>0</td>\n",
       "      <td>0</td>\n",
       "      <td>0</td>\n",
       "      <td>0</td>\n",
       "      <td>...</td>\n",
       "      <td>0</td>\n",
       "      <td>0</td>\n",
       "      <td>0</td>\n",
       "      <td>0</td>\n",
       "      <td>0</td>\n",
       "      <td>0</td>\n",
       "      <td>0</td>\n",
       "      <td>0</td>\n",
       "      <td>0</td>\n",
       "      <td>0</td>\n",
       "    </tr>\n",
       "  </tbody>\n",
       "</table>\n",
       "<p>5 rows × 785 columns</p>\n",
       "</div>"
      ],
      "text/plain": [
       "   label  pixel0  pixel1  pixel2  pixel3  pixel4  pixel5  pixel6  pixel7  \\\n",
       "0      1       0       0       0       0       0       0       0       0   \n",
       "1      0       0       0       0       0       0       0       0       0   \n",
       "2      1       0       0       0       0       0       0       0       0   \n",
       "3      4       0       0       0       0       0       0       0       0   \n",
       "4      0       0       0       0       0       0       0       0       0   \n",
       "\n",
       "   pixel8  ...  pixel774  pixel775  pixel776  pixel777  pixel778  pixel779  \\\n",
       "0       0  ...         0         0         0         0         0         0   \n",
       "1       0  ...         0         0         0         0         0         0   \n",
       "2       0  ...         0         0         0         0         0         0   \n",
       "3       0  ...         0         0         0         0         0         0   \n",
       "4       0  ...         0         0         0         0         0         0   \n",
       "\n",
       "   pixel780  pixel781  pixel782  pixel783  \n",
       "0         0         0         0         0  \n",
       "1         0         0         0         0  \n",
       "2         0         0         0         0  \n",
       "3         0         0         0         0  \n",
       "4         0         0         0         0  \n",
       "\n",
       "[5 rows x 785 columns]"
      ]
     },
     "execution_count": 3,
     "metadata": {},
     "output_type": "execute_result"
    }
   ],
   "source": [
    "test= pd.read_csv(\"/kaggle/input/digit-recognizer/train.csv\")\n",
    "test.head()"
   ]
  },
  {
   "cell_type": "code",
   "execution_count": 4,
   "id": "4835e42c",
   "metadata": {
    "execution": {
     "iopub.execute_input": "2022-11-03T05:45:07.566168Z",
     "iopub.status.busy": "2022-11-03T05:45:07.564902Z",
     "iopub.status.idle": "2022-11-03T05:45:07.572222Z",
     "shell.execute_reply": "2022-11-03T05:45:07.571348Z"
    },
    "papermill": {
     "duration": 0.01622,
     "end_time": "2022-11-03T05:45:07.574655",
     "exception": false,
     "start_time": "2022-11-03T05:45:07.558435",
     "status": "completed"
    },
    "tags": []
   },
   "outputs": [],
   "source": [
    "import matplotlib.pyplot as plt\n",
    "def show_image(data, images_per_row=5):\n",
    "    for i in range(len(data)):\n",
    "        ax=plt.subplot(images_per_row,images_per_row, i+1)\n",
    "        digit=data[i]\n",
    "        digit_img= digit.reshape(28,28)\n",
    "        plt.imshow(digit_img)\n",
    "        plt.axis(\"off\")"
   ]
  },
  {
   "cell_type": "code",
   "execution_count": 5,
   "id": "ea815bf8",
   "metadata": {
    "execution": {
     "iopub.execute_input": "2022-11-03T05:45:07.587530Z",
     "iopub.status.busy": "2022-11-03T05:45:07.586892Z",
     "iopub.status.idle": "2022-11-03T05:45:08.593245Z",
     "shell.execute_reply": "2022-11-03T05:45:08.592012Z"
    },
    "papermill": {
     "duration": 1.01612,
     "end_time": "2022-11-03T05:45:08.596035",
     "exception": false,
     "start_time": "2022-11-03T05:45:07.579915",
     "status": "completed"
    },
    "tags": []
   },
   "outputs": [
    {
     "data": {
      "image/png": "[encoded data removed]",
      "text/plain": [
       "<Figure size 432x288 with 25 Axes>"
      ]
     },
     "metadata": {
      "needs_background": "light"
     },
     "output_type": "display_data"
    }
   ],
   "source": [
    "show_image(train[:25].to_numpy(),images_per_row=5)"
   ]
  },
  {
   "cell_type": "code",
   "execution_count": 6,
   "id": "83b922da",
   "metadata": {
    "execution": {
     "iopub.execute_input": "2022-11-03T05:45:08.609815Z",
     "iopub.status.busy": "2022-11-03T05:45:08.609088Z",
     "iopub.status.idle": "2022-11-03T05:45:09.737783Z",
     "shell.execute_reply": "2022-11-03T05:45:09.736580Z"
    },
    "papermill": {
     "duration": 1.139349,
     "end_time": "2022-11-03T05:45:09.741183",
     "exception": false,
     "start_time": "2022-11-03T05:45:08.601834",
     "status": "completed"
    },
    "tags": []
   },
   "outputs": [],
   "source": [
    "from sklearn.decomposition import PCA"
   ]
  },
  {
   "cell_type": "code",
   "execution_count": 7,
   "id": "e3278269",
   "metadata": {
    "execution": {
     "iopub.execute_input": "2022-11-03T05:45:09.756785Z",
     "iopub.status.busy": "2022-11-03T05:45:09.755987Z",
     "iopub.status.idle": "2022-11-03T05:45:09.761805Z",
     "shell.execute_reply": "2022-11-03T05:45:09.760388Z"
    },
    "papermill": {
     "duration": 0.016303,
     "end_time": "2022-11-03T05:45:09.764223",
     "exception": false,
     "start_time": "2022-11-03T05:45:09.747920",
     "status": "completed"
    },
    "tags": []
   },
   "outputs": [],
   "source": [
    "pca=PCA(random_state=42)"
   ]
  },
  {
   "cell_type": "code",
   "execution_count": 8,
   "id": "d632cbdb",
   "metadata": {
    "execution": {
     "iopub.execute_input": "2022-11-03T05:45:09.777699Z",
     "iopub.status.busy": "2022-11-03T05:45:09.777265Z",
     "iopub.status.idle": "2022-11-03T05:45:13.530450Z",
     "shell.execute_reply": "2022-11-03T05:45:13.529093Z"
    },
    "papermill": {
     "duration": 3.762971,
     "end_time": "2022-11-03T05:45:13.533143",
     "exception": false,
     "start_time": "2022-11-03T05:45:09.770172",
     "status": "completed"
    },
    "tags": []
   },
   "outputs": [],
   "source": [
    "train_reduced= pca.fit(train)"
   ]
  },
  {
   "cell_type": "code",
   "execution_count": 9,
   "id": "d50848c5",
   "metadata": {
    "execution": {
     "iopub.execute_input": "2022-11-03T05:45:13.546967Z",
     "iopub.status.busy": "2022-11-03T05:45:13.546129Z",
     "iopub.status.idle": "2022-11-03T05:45:13.553486Z",
     "shell.execute_reply": "2022-11-03T05:45:13.552587Z"
    },
    "papermill": {
     "duration": 0.016342,
     "end_time": "2022-11-03T05:45:13.555579",
     "exception": false,
     "start_time": "2022-11-03T05:45:13.539237",
     "status": "completed"
    },
    "tags": []
   },
   "outputs": [
    {
     "data": {
      "text/plain": [
       "array([[ 5.26389607e-19,  0.00000000e+00,  1.11022302e-16, ...,\n",
       "         0.00000000e+00,  0.00000000e+00,  0.00000000e+00],\n",
       "       [ 1.23193779e-19,  1.24900090e-16, -0.00000000e+00, ...,\n",
       "        -0.00000000e+00, -0.00000000e+00, -0.00000000e+00],\n",
       "       [ 7.33934442e-19,  1.11022302e-16, -1.11022302e-16, ...,\n",
       "         0.00000000e+00,  0.00000000e+00,  0.00000000e+00],\n",
       "       ...,\n",
       "       [-0.00000000e+00,  3.81288537e-01,  1.82675116e-01, ...,\n",
       "        -0.00000000e+00, -0.00000000e+00, -0.00000000e+00],\n",
       "       [-0.00000000e+00, -4.20552321e-02, -1.42999160e-01, ...,\n",
       "        -0.00000000e+00, -0.00000000e+00, -0.00000000e+00],\n",
       "       [-0.00000000e+00, -1.52429291e-01,  9.78570057e-03, ...,\n",
       "        -0.00000000e+00, -0.00000000e+00, -0.00000000e+00]])"
      ]
     },
     "execution_count": 9,
     "metadata": {},
     "output_type": "execute_result"
    }
   ],
   "source": [
    "train_reduced.components_"
   ]
  },
  {
   "cell_type": "code",
   "execution_count": 10,
   "id": "e413731b",
   "metadata": {
    "execution": {
     "iopub.execute_input": "2022-11-03T05:45:13.569612Z",
     "iopub.status.busy": "2022-11-03T05:45:13.568750Z",
     "iopub.status.idle": "2022-11-03T05:45:15.354519Z",
     "shell.execute_reply": "2022-11-03T05:45:15.353374Z"
    },
    "papermill": {
     "duration": 1.795395,
     "end_time": "2022-11-03T05:45:15.356804",
     "exception": false,
     "start_time": "2022-11-03T05:45:13.561409",
     "status": "completed"
    },
    "tags": []
   },
   "outputs": [
    {
     "data": {
      "text/plain": [
       "<BarContainer object of 784 artists>"
      ]
     },
     "execution_count": 10,
     "metadata": {},
     "output_type": "execute_result"
    },
    {
     "data": {
      "image/png": "[encoded data removed]",
      "text/plain": [
       "<Figure size 432x288 with 1 Axes>"
      ]
     },
     "metadata": {
      "needs_background": "light"
     },
     "output_type": "display_data"
    }
   ],
   "source": [
    "plt.bar(range(1,len(train_reduced.explained_variance_ratio_)+1),train_reduced.explained_variance_ratio_)"
   ]
  },
  {
   "cell_type": "code",
   "execution_count": 11,
   "id": "99392030",
   "metadata": {
    "execution": {
     "iopub.execute_input": "2022-11-03T05:45:15.371546Z",
     "iopub.status.busy": "2022-11-03T05:45:15.371172Z",
     "iopub.status.idle": "2022-11-03T05:45:15.375819Z",
     "shell.execute_reply": "2022-11-03T05:45:15.374685Z"
    },
    "papermill": {
     "duration": 0.014752,
     "end_time": "2022-11-03T05:45:15.378193",
     "exception": false,
     "start_time": "2022-11-03T05:45:15.363441",
     "status": "completed"
    },
    "tags": []
   },
   "outputs": [],
   "source": [
    "evr=train_reduced.explained_variance_ratio_\n",
    "var_cum= np.cumsum(evr)"
   ]
  },
  {
   "cell_type": "code",
   "execution_count": 12,
   "id": "8cbd65a0",
   "metadata": {
    "execution": {
     "iopub.execute_input": "2022-11-03T05:45:15.393408Z",
     "iopub.status.busy": "2022-11-03T05:45:15.392079Z",
     "iopub.status.idle": "2022-11-03T05:45:15.608392Z",
     "shell.execute_reply": "2022-11-03T05:45:15.607210Z"
    },
    "papermill": {
     "duration": 0.226551,
     "end_time": "2022-11-03T05:45:15.611076",
     "exception": false,
     "start_time": "2022-11-03T05:45:15.384525",
     "status": "completed"
    },
    "tags": []
   },
   "outputs": [
    {
     "data": {
      "text/plain": [
       "[<matplotlib.lines.Line2D at 0x7f185bd1abd0>]"
      ]
     },
     "execution_count": 12,
     "metadata": {},
     "output_type": "execute_result"
    },
    {
     "data": {
      "image/png": "[encoded data removed]",
      "text/plain": [
       "<Figure size 432x288 with 1 Axes>"
      ]
     },
     "metadata": {
      "needs_background": "light"
     },
     "output_type": "display_data"
    }
   ],
   "source": [
    "plt.plot(range(1,len(evr)+1),var_cum)"
   ]
  },
  {
   "cell_type": "code",
   "execution_count": 13,
   "id": "3555f83b",
   "metadata": {
    "execution": {
     "iopub.execute_input": "2022-11-03T05:45:15.626247Z",
     "iopub.status.busy": "2022-11-03T05:45:15.625794Z",
     "iopub.status.idle": "2022-11-03T05:45:15.631293Z",
     "shell.execute_reply": "2022-11-03T05:45:15.630109Z"
    },
    "papermill": {
     "duration": 0.015745,
     "end_time": "2022-11-03T05:45:15.633526",
     "exception": false,
     "start_time": "2022-11-03T05:45:15.617781",
     "status": "completed"
    },
    "tags": []
   },
   "outputs": [],
   "source": [
    "pca2= PCA(0.95)"
   ]
  },
  {
   "cell_type": "code",
   "execution_count": 14,
   "id": "ec7cc981",
   "metadata": {
    "execution": {
     "iopub.execute_input": "2022-11-03T05:45:15.648373Z",
     "iopub.status.busy": "2022-11-03T05:45:15.647940Z",
     "iopub.status.idle": "2022-11-03T05:45:19.235967Z",
     "shell.execute_reply": "2022-11-03T05:45:19.234851Z"
    },
    "papermill": {
     "duration": 3.599074,
     "end_time": "2022-11-03T05:45:19.239127",
     "exception": false,
     "start_time": "2022-11-03T05:45:15.640053",
     "status": "completed"
    },
    "tags": []
   },
   "outputs": [],
   "source": [
    "train_reduced2= pca2.fit_transform(train)"
   ]
  },
  {
   "cell_type": "code",
   "execution_count": 15,
   "id": "0cbc0f40",
   "metadata": {
    "execution": {
     "iopub.execute_input": "2022-11-03T05:45:19.254099Z",
     "iopub.status.busy": "2022-11-03T05:45:19.253647Z",
     "iopub.status.idle": "2022-11-03T05:45:19.260851Z",
     "shell.execute_reply": "2022-11-03T05:45:19.259811Z"
    },
    "papermill": {
     "duration": 0.017308,
     "end_time": "2022-11-03T05:45:19.263107",
     "exception": false,
     "start_time": "2022-11-03T05:45:19.245799",
     "status": "completed"
    },
    "tags": []
   },
   "outputs": [
    {
     "data": {
      "text/plain": [
       "(28000, 153)"
      ]
     },
     "execution_count": 15,
     "metadata": {},
     "output_type": "execute_result"
    }
   ],
   "source": [
    "train_reduced2.shape"
   ]
  },
  {
   "cell_type": "code",
   "execution_count": null,
   "id": "bc93cabc",
   "metadata": {
    "papermill": {
     "duration": 0.006373,
     "end_time": "2022-11-03T05:45:19.277131",
     "exception": false,
     "start_time": "2022-11-03T05:45:19.270758",
     "status": "completed"
    },
    "tags": []
   },
   "outputs": [],
   "source": []
  }
 ],
 "metadata": {
  "kernelspec": {
   "display_name": "Python 3",
   "language": "python",
   "name": "python3"
  },
  "language_info": {
   "codemirror_mode": {
    "name": "ipython",
    "version": 3
   },
   "file_extension": ".py",
   "mimetype": "text/x-python",
   "name": "python",
   "nbconvert_exporter": "python",
   "pygments_lexer": "ipython3",
   "version": "3.7.12"
  },
  "papermill": {
   "default_parameters": {},
   "duration": 27.525745,
   "end_time": "2022-11-03T05:45:20.105759",
   "environment_variables": {},
   "exception": null,
   "input_path": "__notebook__.ipynb",
   "output_path": "__notebook__.ipynb",
   "parameters": {},
   "start_time": "2022-11-03T05:44:52.580014",
   "version": "2.3.4"
  }
 },
 "nbformat": 4,
 "nbformat_minor": 5
}
